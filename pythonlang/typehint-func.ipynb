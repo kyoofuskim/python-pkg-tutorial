{
 "cells": [
  {
   "cell_type": "markdown",
   "metadata": {},
   "source": [
    "# 타입 힌트"
   ]
  },
  {
   "cell_type": "markdown",
   "metadata": {},
   "source": [
    "자바와 같은 언어에서는 변수의 타입을 선언해야하는제 파이썬에서는 타입을 선언하지 않아도 됩니다. 그러나 파이썬 3.5부터는 타입 힌트(type hint)를 지원합니다. 타입 힌트는 파이썬 코드를 작성할 때 함수 인자나 함수 반환값 등에 대한 타입을 지정할 수 있게 해줍니다.  타입 힌트는 파이썬 인터프리터에 의해 무시되므로 타입 힌트를 지정해도 코드 실행에는 문제가 없습니다. 하지만 타입 힌트를 지정하면 코드를 읽는 사람이 함수 인자나 함수 반환값의 타입을 쉽게 알 수 있으므로 코드를 작성하고 읽기가 쉬워집니다. \n",
    "\n",
    "> 파이썬에서는 타입 힌트(type hint)라는 표현을 사용합니다. \n",
    "\n",
    "파이썬은 기본 내장형들(Built-in Types)이 있습니다. 기본 내장 유형은 숫자, 시퀀스, 매핑, 클래스, 인스턴스 및 예외입니다. \n",
    "\n",
    "* 숫자형(Numeric Types): int, float, complex\n",
    "* 열거형(Iterator Type): iter\n",
    "* 시퀀스형(Sequence Types) : list, tuple, range\n",
    "* 텍스트 시퀀스형(Text Sequence Type) : str\n",
    "* 바이너리 시퀀스형(Binary Sequence Types) : bytes, bytearray, memoryview\n",
    "* 집합형(Set Types): set, frozenset\n",
    "* 매핑형(Mapping Type): dict\n",
    "\n",
    "위에서 언급한 내장형들은 모두 클래스입니다.\n",
    "> 빌트인 타입들에 대해서는 \"[Built-in Types](https://docs.python.org/3.10/library/stdtypes.html#numeric-types-int-float-complex)\"에 잘 설명이 되어 있으나 int, float, complex 클래스에 대한 설명은 없습니다.\n",
    "\n",
    "* class str(object='')\n",
    "* class list([iterable])\n",
    "* class bytes([source[, encoding[, errors]]])\n",
    "* class bytearray([source[, encoding[, errors]]])\n",
    "* class tuple([iterable])\n",
    "* class range(stop)\n",
    "* class set([iterable])\n",
    "* class frozenset([iterable])\n",
    "* class dict(**kwargs)\n",
    "\n"
   ]
  },
  {
   "cell_type": "markdown",
   "metadata": {},
   "source": [
    "**type hint**    \n",
    "타입 힌트는 변수, 클래스 속성, 함수 매개변수 또는 반환 값에 대해 예상되는 유형을 지정하는 주석(annotation)입니다.\n",
    "\n",
    "**annotation**     \n",
    "어노테이션은 변수, 클래스 속성, 함수 매개변수 또는 반환 값과 연관된 레이블로, 관례에 따라 유형 힌트로 사용됩니다."
   ]
  },
  {
   "cell_type": "markdown",
   "metadata": {},
   "source": [
    "## Type Annotation \n",
    "그럼 타입 힌트를 어떻게 지정할 수 있을까요? 타입 힌트는 변수, 클래스 속성, 함수 매개변수 또는 반환 값에 대한 주석(annotation)으로 지정할 수 있습니다. 타입 힌트는 변수, 클래스 속성, 함수 매개변수 또는 반환 값의 유형을 지정합니다. \n",
    "\n",
    "\n",
    "### Variable annotation\n",
    "변수 또는 클래스 속성에 대한 어노테이션을 의미합니다.  변수 또는 클래스 속성을 선언할 때 사용합니다. 변수 또는 클래스 속성에 대한 어노테이션은 변수 또는 클래스 속성의 유형을 지정합니다. \n",
    "\n",
    "```python\n",
    "class C:\n",
    "    field: 'annotation'\n",
    "```\n",
    "\n",
    "변수 주석은 일반적으로 유형 힌트에 사용됩니다. 예를 들어 이 변수는 int 값을 취해야 합니다.\n",
    "```python\n",
    "x: int = 1\n",
    "```"
   ]
  },
  {
   "cell_type": "markdown",
   "metadata": {},
   "source": [
    "다음 코드는 int, float, str 등의 타입 어노테이션을 사용하는 방법을 보여줍니다. "
   ]
  },
  {
   "cell_type": "code",
   "execution_count": 9,
   "metadata": {},
   "outputs": [
    {
     "name": "stdout",
     "output_type": "stream",
     "text": [
      "abcde\n",
      "123\n",
      "1.23\n",
      "True\n"
     ]
    }
   ],
   "source": [
    "a: str = \"abcde\"  # 문자열 \n",
    "print(a)\n",
    "b: int = 123 # 정수\n",
    "print(b)\n",
    "c: float = 1.23 # 실수\n",
    "print(c)\n",
    "d: bool = True # 불린\n",
    "print(d)\n"
   ]
  },
  {
   "cell_type": "markdown",
   "metadata": {},
   "source": [
    "다음 코드는 list, tuple, set, dict 등의 타입 어노테이션을 사용하는 방법을 보여줍니다. "
   ]
  },
  {
   "cell_type": "code",
   "execution_count": 7,
   "metadata": {},
   "outputs": [
    {
     "name": "stdout",
     "output_type": "stream",
     "text": [
      "[1]\n",
      "(1, 2)\n",
      "{'a': 1, 'b': 2}\n",
      "{1, 2, 3}\n"
     ]
    }
   ],
   "source": [
    "n_nums: [int] = [1]  # 리스트\n",
    "print(n_nums)\n",
    "n_tuple: (int, int) = (1, 2)  # 튜플\n",
    "print(n_tuple)\n",
    "n_dict: {str: int} = {'a': 1, 'b': 2} # 딕셔너리\n",
    "print(n_dict)\n",
    "n_set: {int} = {1, 2, 3} # 셋\n",
    "print(n_set)"
   ]
  },
  {
   "cell_type": "markdown",
   "metadata": {},
   "source": [
    "## typing \n",
    "파이썬 라이브러리에는 타입 힌트를 지원하는 typing 모듈이 있습니다. typing 모듈은 타입 힌트를 지정할 때 사용할 수 있는 클래스와 함수를 제공합니다. 다음과 같은 것들이 있습니다. \n",
    "* typing.NoReturn\n",
    "* typing.Any\n",
    "* typing.Union\n",
    "* typing.Optional\n",
    "* typing.List\n",
    "* typing.Tuple\n",
    "* typing.Set\n",
    "* typing.Dict\n",
    "\n",
    "예를 들어 다음과 같이 typing 모듈의 List 클래스를 사용하여 리스트에 저장되는 값의 타입을 지정할 수 있습니다. \n",
    "\n",
    "```python\n",
    "from typing import List\n",
    "\n",
    "nums: List[int] = [1]\n",
    "```\n",
    "\n",
    "다음 코드는 typing 모듈의 List,Set, Dict, Tuple 클래스를 사용하여 타입 힌트를 지정하는 방법을 보여줍니다. "
   ]
  },
  {
   "cell_type": "code",
   "execution_count": 3,
   "metadata": {},
   "outputs": [],
   "source": [
    "from typing import List, Set, Dict, Tuple\n",
    "\n",
    "nums: List[int] = [1]\n",
    "unique_nums: Set[int] = {6, 7}\n",
    "vision: Dict[str, float] = {'left': 1.0, 'right': 0.9}\n",
    "john: Tuple[int, str, List[float]] = (25, \"John Doe\", [1.0, 0.9])"
   ]
  },
  {
   "cell_type": "markdown",
   "metadata": {},
   "source": [
    "## Type alises\n",
    "변수를 선언할 때 타입을 할당하면 변수가 새로운 타입이 됩니다. 아래 예제에서 Vector와 list[float]는 정적 유형 검사기에서 동일하게 처리됩니다."
   ]
  },
  {
   "cell_type": "code",
   "execution_count": 11,
   "metadata": {},
   "outputs": [
    {
     "name": "stdout",
     "output_type": "stream",
     "text": [
      "[1.0, 2.0, 3.0]\n"
     ]
    }
   ],
   "source": [
    "type Vector = list[float]\n",
    "ids: Vector = [1.0, 2.0, 3.0]\n",
    "print(ids)"
   ]
  },
  {
   "cell_type": "markdown",
   "metadata": {},
   "source": [
    "타입을 새 변수에 대입하면 그 변수는 타입 별칭으로써 기능을 합니다.  다음은 간단한 예제입니다."
   ]
  },
  {
   "cell_type": "code",
   "execution_count": 1,
   "metadata": {},
   "outputs": [],
   "source": [
    "from typing import List\n",
    "\n",
    "# 타입 별칭을 사용하여 코드의 가독성을 높일 수 있습니다.\n",
    "UrlList = List[str]   # UrlList는 List[str]과 동일합니다.\n",
    "CrawlingResult = List[str]\n",
    "\n",
    "def crawler(urls: UrlList) -> CrawlingResult:\n",
    "    results = []\n",
    "    for url in urls:\n",
    "        # 여기에 실제 크롤링 로직을 구현합니다.\n",
    "        # 예시로, 단순히 URL을 결과에 추가합니다.\n",
    "        results.append(url)\n",
    "    \n",
    "    return results"
   ]
  },
  {
   "cell_type": "code",
   "execution_count": 2,
   "metadata": {},
   "outputs": [
    {
     "name": "stdout",
     "output_type": "stream",
     "text": [
      "https://example.com\n",
      "https://example.org\n",
      "https://example.net\n"
     ]
    }
   ],
   "source": [
    "# 크롤링할 URL 목록\n",
    "urls_to_crawl = [\n",
    "        \"https://example.com\",\n",
    "        \"https://example.org\",\n",
    "        \"https://example.net\"\n",
    "]\n",
    "\n",
    "# 크롤러 함수 호출\n",
    "crawling_results = crawler(urls_to_crawl)\n",
    "\n",
    "# 결과 출력\n",
    "for result in crawling_results:\n",
    "    print(result)"
   ]
  },
  {
   "cell_type": "markdown",
   "metadata": {},
   "source": [
    "## Any Type\n",
    "특수한 종류의 형은 Any입니다. 정적 형 검사기는 모든 형을 Any와 호환되는 것으로, Any를 모든 형과 호환되는 것으로 취급합니다.\n",
    "\n",
    "이것은 Any 형의 값에 대해 어떤 연산이나 메서드 호출을 수행하고, 그것을 임의의 변수에 대입할 수 있다는 것을 의미합니다:"
   ]
  },
  {
   "cell_type": "code",
   "execution_count": 1,
   "metadata": {},
   "outputs": [],
   "source": [
    "from typing import Any\n",
    "\n",
    "a: Any = None\n",
    "a = []          # OK\n",
    "a = 2           # OK\n",
    "\n",
    "s: str = ''\n",
    "s = a           # OK\n",
    "\n",
    "def foo(item: Any) -> int:\n",
    "    # Passes type checking; 'item' could be any type,\n",
    "    # and that type might have a 'bar' method\n",
    "    item.bar()"
   ]
  },
  {
   "cell_type": "markdown",
   "metadata": {},
   "source": [
    "Any 유형의 값을 보다 정확한 유형에 할당할 때는 유형 검사가 수행되지 않습니다. 예를 들어, s가 str 유형으로 선언되고 런타임에 int 값을 받더라도 정적 유형 검사기는 a를 s에 할당할 때 오류를 보고하지 않았습니다.\n",
    "또한, 반환형이나 매개 변수 형이 없는 모든 함수는 묵시적으로 Any 기본값을 사용합니다:"
   ]
  },
  {
   "cell_type": "code",
   "execution_count": 2,
   "metadata": {},
   "outputs": [],
   "source": [
    "def legacy_parser(text):\n",
    "    data = text \n",
    "    return data\n",
    "\n",
    "# A static type checker will treat the above\n",
    "# as having the same signature as:\n",
    "def legacy_parser(text: Any) -> Any:\n",
    "    data = text \n",
    "    return data"
   ]
  },
  {
   "cell_type": "markdown",
   "metadata": {},
   "source": [
    "## object\n",
    "Any의 동작과 object의 동작을 대조하십시오. Any와 유사하게, 모든 형은 object의 서브 형입니다. 그러나, Any와는 달리, 그 반대는 사실이 아닙니다: object는 다른 모든 형의 서브 형이 아닙니다.\n",
    "\n",
    "> object 는 __dict__ 을 가지지 않습니다. 그래서, object 클래스의 인스턴스에 임의의 어트리뷰트를 대입할 수 없습니다.\n",
    "\n",
    "\n",
    "아래 has_a 함수에서 item.magic()은 object에는 없는 메서드이므로 정적 유형 검사기는 오류를 보고합니다.\n",
    "\n",
    "```python\n",
    "def hash_a(item: object) -> int:\n",
    "    # Fails type checking; an object does not have a 'magic' method.\n",
    "    item.magic()\n",
    "\n",
    "```\n",
    "그러나 Any인 경우에는 정적 유형 검사기가 오류를 보고하지 않습니다.\n",
    "\n",
    "```python\n",
    "\n",
    "def hash_b(item: Any) -> int:\n",
    "    # Passes type checking\n",
    "    item.magic()\n",
    "```\n",
    "    "
   ]
  },
  {
   "cell_type": "markdown",
   "metadata": {},
   "source": [
    "## typing.TypeAlias\n",
    "유형 별칭을 명시적으로 선언하기 위한 특수 주석입니다. 3.10.0 버전에서 도입되었습니다. 새로운 타입을 정의합니다. "
   ]
  },
  {
   "cell_type": "code",
   "execution_count": 10,
   "metadata": {},
   "outputs": [
    {
     "name": "stdout",
     "output_type": "stream",
     "text": [
      "(1.0, 2.0)\n",
      "['https://example.com', 'https://example.net']\n"
     ]
    }
   ],
   "source": [
    "from typing import TypeAlias\n",
    "\n",
    "# Factors: TypeAlias = list[int]  \n",
    "Point: TypeAlias = tuple[float, float]\n",
    "type(Point)  # => types.GenericAlias\n",
    "xy:Point  = (1.0, 2.0)  # => xy: tuple[float, float]\n",
    "type(xy) # tuple \n",
    "print(xy)  # (1.0, 2.0)\n",
    "\n",
    "Urls: TypeAlias = list[str]\n",
    "urls: Urls = ['https://example.com', 'https://example.net']\n",
    "print(urls)  # ['https://example.com', 'https://example.net']\n"
   ]
  },
  {
   "cell_type": "markdown",
   "metadata": {},
   "source": [
    "## typing.NoReturn \n",
    "함수가 반환하지 않는다는 것을 나타내는 특수 주석입니다. 3.6.0 버전에서 도입되었습니다. 이것은 None을 반환한는 것과는 다릅니다. 오류를 발생하는 경우 사용합니다. "
   ]
  },
  {
   "cell_type": "code",
   "execution_count": 11,
   "metadata": {},
   "outputs": [
    {
     "ename": "RuntimeError",
     "evalue": "no way",
     "output_type": "error",
     "traceback": [
      "\u001b[1;31m---------------------------------------------------------------------------\u001b[0m",
      "\u001b[1;31mRuntimeError\u001b[0m                              Traceback (most recent call last)",
      "Cell \u001b[1;32mIn[11], line 7\u001b[0m\n\u001b[0;32m      3\u001b[0m \u001b[38;5;28;01mdef\u001b[39;00m \u001b[38;5;21mstop\u001b[39m() \u001b[38;5;241m-\u001b[39m\u001b[38;5;241m>\u001b[39m NoReturn:\n\u001b[0;32m      4\u001b[0m     \u001b[38;5;28;01mraise\u001b[39;00m \u001b[38;5;167;01mRuntimeError\u001b[39;00m(\u001b[38;5;124m'\u001b[39m\u001b[38;5;124mno way\u001b[39m\u001b[38;5;124m'\u001b[39m)\n\u001b[1;32m----> 7\u001b[0m \u001b[43mstop\u001b[49m\u001b[43m(\u001b[49m\u001b[43m)\u001b[49m\n",
      "Cell \u001b[1;32mIn[11], line 4\u001b[0m, in \u001b[0;36mstop\u001b[1;34m()\u001b[0m\n\u001b[0;32m      3\u001b[0m \u001b[38;5;28;01mdef\u001b[39;00m \u001b[38;5;21mstop\u001b[39m() \u001b[38;5;241m-\u001b[39m\u001b[38;5;241m>\u001b[39m NoReturn:\n\u001b[1;32m----> 4\u001b[0m     \u001b[38;5;28;01mraise\u001b[39;00m \u001b[38;5;167;01mRuntimeError\u001b[39;00m(\u001b[38;5;124m'\u001b[39m\u001b[38;5;124mno way\u001b[39m\u001b[38;5;124m'\u001b[39m)\n",
      "\u001b[1;31mRuntimeError\u001b[0m: no way"
     ]
    }
   ],
   "source": [
    "from typing import NoReturn\n",
    "\n",
    "def stop() -> NoReturn:\n",
    "    raise RuntimeError('no way')\n",
    "\n",
    "stop() # RuntimeError 발생 "
   ]
  },
  {
   "cell_type": "markdown",
   "metadata": {},
   "source": [
    "## typing.Union\n",
    "공용체를 정의하려면 다음을 사용하세요. Union[int, str] 또는 약어로 int | str. 해당 단축어를 사용하는 것이 좋습니다."
   ]
  },
  {
   "cell_type": "code",
   "execution_count": 12,
   "metadata": {},
   "outputs": [],
   "source": [
    "from typing import Union\n",
    "\n",
    "a: Union[int,str]\n",
    "a = 1\n",
    "a = '1'\n"
   ]
  }
 ],
 "metadata": {
  "kernelspec": {
   "display_name": "Python 3",
   "language": "python",
   "name": "python3"
  },
  "language_info": {
   "codemirror_mode": {
    "name": "ipython",
    "version": 3
   },
   "file_extension": ".py",
   "mimetype": "text/x-python",
   "name": "python",
   "nbconvert_exporter": "python",
   "pygments_lexer": "ipython3",
   "version": "3.12.0"
  }
 },
 "nbformat": 4,
 "nbformat_minor": 2
}
