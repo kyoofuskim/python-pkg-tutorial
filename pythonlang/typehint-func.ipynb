{
 "cells": [
  {
   "cell_type": "markdown",
   "metadata": {},
   "source": [
    "# 타입 힌트 - 타입별칭 사용\n",
    "> 여기를 참고로 합니다.https://lewisxyz000.tistory.com/35\n",
    "\n",
    "https://www.daleseo.com/python-type-annotations/\n"
   ]
  },
  {
   "cell_type": "markdown",
   "metadata": {},
   "source": [
    "## Type Annotation "
   ]
  },
  {
   "cell_type": "markdown",
   "metadata": {},
   "source": [
    "### 기본 타입 타입 명시 \n",
    "다음은 파이썬 기본타입을 명시하는 방법입니다. "
   ]
  },
  {
   "cell_type": "code",
   "execution_count": 9,
   "metadata": {},
   "outputs": [
    {
     "name": "stdout",
     "output_type": "stream",
     "text": [
      "abcde\n",
      "123\n",
      "1.23\n",
      "True\n"
     ]
    }
   ],
   "source": [
    "a: str = \"abcde\"  # 문자열 \n",
    "print(a)\n",
    "b: int = 123 # 정수\n",
    "print(b)\n",
    "c: float = 1.23 # 실수\n",
    "print(c)\n",
    "d: bool = True # 불린\n",
    "print(d)\n"
   ]
  },
  {
   "cell_type": "markdown",
   "metadata": {},
   "source": [
    "### 리스트, 튜플, 딕셔너리, 셋 타입 명시 "
   ]
  },
  {
   "cell_type": "code",
   "execution_count": 7,
   "metadata": {},
   "outputs": [
    {
     "name": "stdout",
     "output_type": "stream",
     "text": [
      "[1]\n",
      "(1, 2)\n",
      "{'a': 1, 'b': 2}\n",
      "{1, 2, 3}\n"
     ]
    }
   ],
   "source": [
    "n_nums: [int] = [1]  # 리스트\n",
    "print(n_nums)\n",
    "n_tuple: (int, int) = (1, 2)  # 튜플\n",
    "print(n_tuple)\n",
    "n_dict: {str: int} = {'a': 1, 'b': 2} # 딕셔너리\n",
    "print(n_dict)\n",
    "n_set: {int} = {1, 2, 3} # 셋\n",
    "print(n_set)"
   ]
  },
  {
   "cell_type": "markdown",
   "metadata": {},
   "source": [
    "## typing 모듈 \n",
    "다음은 내장 타입 별칭을 사용하는 방법입니다."
   ]
  },
  {
   "cell_type": "code",
   "execution_count": 3,
   "metadata": {},
   "outputs": [],
   "source": [
    "from typing import List, Set, Dict, Tuple\n",
    "\n",
    "nums: List[int] = [1]\n",
    "unique_nums: Set[int] = {6, 7}\n",
    "vision: Dict[str, float] = {'left': 1.0, 'right': 0.9}\n",
    "john: Tuple[int, str, List[float]] = (25, \"John Doe\", [1.0, 0.9])"
   ]
  },
  {
   "cell_type": "markdown",
   "metadata": {},
   "source": [
    "유형 별칭은 TypeAliasType의 인스턴스를 생성하는 유형 문을 사용하여 정의됩니다. 이 예에서 Vector와 list[float]는 정적 유형 검사기에서 동일하게 처리됩니다."
   ]
  },
  {
   "cell_type": "code",
   "execution_count": 11,
   "metadata": {},
   "outputs": [
    {
     "name": "stdout",
     "output_type": "stream",
     "text": [
      "[1.0, 2.0, 3.0]\n"
     ]
    }
   ],
   "source": [
    "type Vector = list[float]\n",
    "ids: Vector = [1.0, 2.0, 3.0]\n",
    "print(ids)"
   ]
  },
  {
   "cell_type": "markdown",
   "metadata": {},
   "source": [
    "타입을 새 변수에 대입하면 그 변수는 타입 별칭으로써 기능을 합니다.  다음은 간단한 예제입니다."
   ]
  },
  {
   "cell_type": "code",
   "execution_count": 1,
   "metadata": {},
   "outputs": [],
   "source": [
    "from typing import List\n",
    "\n",
    "# 타입 별칭을 사용하여 코드의 가독성을 높일 수 있습니다.\n",
    "UrlList = List[str]   # UrlList는 List[str]과 동일합니다.\n",
    "CrawlingResult = List[str]\n",
    "\n",
    "def crawler(urls: UrlList) -> CrawlingResult:\n",
    "    results = []\n",
    "    for url in urls:\n",
    "        # 여기에 실제 크롤링 로직을 구현합니다.\n",
    "        # 예시로, 단순히 URL을 결과에 추가합니다.\n",
    "        results.append(url)\n",
    "    \n",
    "    return results"
   ]
  },
  {
   "cell_type": "code",
   "execution_count": 2,
   "metadata": {},
   "outputs": [
    {
     "name": "stdout",
     "output_type": "stream",
     "text": [
      "https://example.com\n",
      "https://example.org\n",
      "https://example.net\n"
     ]
    }
   ],
   "source": [
    "# 크롤링할 URL 목록\n",
    "urls_to_crawl = [\n",
    "        \"https://example.com\",\n",
    "        \"https://example.org\",\n",
    "        \"https://example.net\"\n",
    "]\n",
    "\n",
    "# 크롤러 함수 호출\n",
    "crawling_results = crawler(urls_to_crawl)\n",
    "\n",
    "# 결과 출력\n",
    "for result in crawling_results:\n",
    "    print(result)"
   ]
  }
 ],
 "metadata": {
  "kernelspec": {
   "display_name": "Python 3",
   "language": "python",
   "name": "python3"
  },
  "language_info": {
   "codemirror_mode": {
    "name": "ipython",
    "version": 3
   },
   "file_extension": ".py",
   "mimetype": "text/x-python",
   "name": "python",
   "nbconvert_exporter": "python",
   "pygments_lexer": "ipython3",
   "version": "3.12.0"
  }
 },
 "nbformat": 4,
 "nbformat_minor": 2
}
