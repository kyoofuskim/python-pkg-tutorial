{
 "cells": [
  {
   "cell_type": "markdown",
   "metadata": {},
   "source": [
    "# Generic\n",
    "\n",
    "파이썬은 원래 동적 타입 언어라서 타입이 없지만 타입을 명시해서 혼란을 낮추는 방법이 존재합니다. 그 중 Generics는 여러 타입을 허용합니다. 데이터 형식에 의존하지 않고 인자, 변수 또는 반환값 등이 여러 다른 데이터 타입들을 가질 수 있는 방식을 제네릭이라고 합니다.\n",
    "> Generic에 대한 좋은 내용은 [여기](https://www.python.org/dev/peps/pep-0484/)를 참고하세요."
   ]
  },
  {
   "cell_type": "markdown",
   "metadata": {},
   "source": [
    "다음 코드는 제네릭을 사용한 간단한 코드입니다. "
   ]
  },
  {
   "cell_type": "code",
   "execution_count": 1,
   "metadata": {},
   "outputs": [
    {
     "name": "stdout",
     "output_type": "stream",
     "text": [
      "True\n"
     ]
    }
   ],
   "source": [
    "from typing import TypeVar\n",
    "\n",
    "T = TypeVar('T')\n",
    "U = TypeVar('U')\n",
    "\n",
    "def are_equal(a:T, b:U) -> bool:\n",
    "    return a == b\n",
    "\n",
    "print(are_equal(10, 10.0)) # True"
   ]
  },
  {
   "cell_type": "markdown",
   "metadata": {},
   "source": [
    "## Generic Function \n",
    "\n",
    "제네릭은 TypeVar라는 타이핑에 사용 가능한 팩토리를 사용하여 매개변수화할 수 있습니다. 유형 변수를 사용하여 일반 함수를 정의할 수 있습니다."
   ]
  },
  {
   "cell_type": "code",
   "execution_count": 3,
   "metadata": {},
   "outputs": [],
   "source": [
    "from typing import TypeVar, Sequence\n",
    "\n",
    "T = TypeVar('T')   # Declare type variable\n",
    "\n",
    "# A generic function!\n",
    "def first(seq: Sequence[T]) -> T:\n",
    "    return seq[0]"
   ]
  },
  {
   "cell_type": "markdown",
   "metadata": {},
   "source": [
    "일반 클래스와 마찬가지로 유형 변수는 어떤 유형으로도 대체될 수 있습니다. 즉, first는 모든 시퀀스 유형과 함께 사용될 수 있으며 반환 유형은 시퀀스 항목 유형에서 파생됩니다. 예를 들어:\n",
    "```python\n",
    "reveal_type(first([1, 2, 3]))   # Revealed type is \"builtins.int\"\n",
    "reveal_type(first(['a', 'b']))  # Revealed type is \"builtins.str\"\n",
    "```\n",
    "\n",
    "또한 유형 변수(예: 위의 T)의 단일 정의를 여러 일반 함수나 클래스에서 사용할 수 있습니다. 이 예에서는 두 개의 일반 함수에서 동일한 유형 변수를 사용합니다."
   ]
  },
  {
   "cell_type": "code",
   "execution_count": 4,
   "metadata": {},
   "outputs": [],
   "source": [
    "from typing import TypeVar, Sequence\n",
    "\n",
    "T = TypeVar('T')      # Declare type variable\n",
    "\n",
    "def first(seq: Sequence[T]) -> T:\n",
    "    return seq[0]\n",
    "\n",
    "def last(seq: Sequence[T]) -> T:\n",
    "    return seq[-1]"
   ]
  },
  {
   "cell_type": "markdown",
   "metadata": {},
   "source": [
    "### class typing.TypeVar\n",
    "TypeVar를 사용하여 매개변수를 만들 때 유형을 정의할 수도 있습니다. \n",
    "* 첫 번째 T는 어떤 타입이든 가능합니다.\n",
    "* 두 번째 S는 str의 서브타입만 가능합니다.\n",
    "* 세 번째 A는 str과 bytes만 가능합니다."
   ]
  },
  {
   "cell_type": "code",
   "execution_count": 10,
   "metadata": {},
   "outputs": [],
   "source": [
    "T = TypeVar('T')  # Can be anything\n",
    "S = TypeVar('S', bound=str)  # Can be any subtype of str\n",
    "A = TypeVar('A', str, bytes)  # Must be exactly str or bytes"
   ]
  },
  {
   "cell_type": "code",
   "execution_count": 14,
   "metadata": {},
   "outputs": [
    {
     "name": "stdout",
     "output_type": "stream",
     "text": [
      "Hello world\n",
      "hello world\n"
     ]
    },
    {
     "ename": "AttributeError",
     "evalue": "'int' object has no attribute 'capitalize'",
     "output_type": "error",
     "traceback": [
      "\u001b[1;31m---------------------------------------------------------------------------\u001b[0m",
      "\u001b[1;31mAttributeError\u001b[0m                            Traceback (most recent call last)",
      "Cell \u001b[1;32mIn[14], line 8\u001b[0m\n\u001b[0;32m      6\u001b[0m result \u001b[38;5;241m=\u001b[39m print_capitalized(\u001b[38;5;124m\"\u001b[39m\u001b[38;5;124mhello world\u001b[39m\u001b[38;5;124m\"\u001b[39m)  \u001b[38;5;66;03m# typechecks; prints \"Hello world\"\u001b[39;00m\n\u001b[0;32m      7\u001b[0m \u001b[38;5;28mprint\u001b[39m(result)\n\u001b[1;32m----> 8\u001b[0m result \u001b[38;5;241m=\u001b[39m \u001b[43mprint_capitalized\u001b[49m\u001b[43m(\u001b[49m\u001b[38;5;241;43m1\u001b[39;49m\u001b[43m)\u001b[49m  \n",
      "Cell \u001b[1;32mIn[14], line 3\u001b[0m, in \u001b[0;36mprint_capitalized\u001b[1;34m(x)\u001b[0m\n\u001b[0;32m      1\u001b[0m \u001b[38;5;28;01mdef\u001b[39;00m \u001b[38;5;21mprint_capitalized\u001b[39m(x: S) \u001b[38;5;241m-\u001b[39m\u001b[38;5;241m>\u001b[39m S:\n\u001b[0;32m      2\u001b[0m \u001b[38;5;250m    \u001b[39m\u001b[38;5;124;03m\"\"\"Print x capitalized, and return x.\"\"\"\u001b[39;00m\n\u001b[1;32m----> 3\u001b[0m     \u001b[38;5;28mprint\u001b[39m(\u001b[43mx\u001b[49m\u001b[38;5;241;43m.\u001b[39;49m\u001b[43mcapitalize\u001b[49m())\n\u001b[0;32m      4\u001b[0m     \u001b[38;5;28;01mreturn\u001b[39;00m x\n",
      "\u001b[1;31mAttributeError\u001b[0m: 'int' object has no attribute 'capitalize'"
     ]
    }
   ],
   "source": [
    "def print_capitalized(x: S) -> S:\n",
    "    \"\"\"Print x capitalized, and return x.\"\"\"\n",
    "    print(x.capitalize())\n",
    "    return x\n",
    "\n",
    "result = print_capitalized(\"hello world\")  # typechecks; prints \"Hello world\"\n",
    "print(result)\n",
    "result = print_capitalized(1)   # 오류가 발생합니다. \n"
   ]
  },
  {
   "cell_type": "markdown",
   "metadata": {},
   "source": [
    "## Generic methods and generic self\n",
    "일반 메소드를 정의할 수도 있습니다. 클래스 유형 변수와 다른 메소드 시그니처의 유형 변수를 사용하기만 하면 됩니다. 특히 self 인수는 일반적일 수도 있으므로 메서드가 액세스 시점에 알려진 가장 정확한 유형을 반환할 수 있습니다. 예를 들어 이런 방식으로 setter 메소드 체인을 확인할 수 있습니다."
   ]
  },
  {
   "cell_type": "code",
   "execution_count": 9,
   "metadata": {},
   "outputs": [
    {
     "name": "stdout",
     "output_type": "stream",
     "text": [
      "<__main__.Circle object at 0x0000022458FCAB70>\n",
      "<__main__.Square object at 0x000002245A3D9C70>\n",
      "2.7\n"
     ]
    }
   ],
   "source": [
    "from typing import TypeVar\n",
    "\n",
    "T = TypeVar('T', bound='Shape')\n",
    "\n",
    "class Shape:\n",
    "    def set_scale(self: T, scale: float) -> T:\n",
    "        self.scale = scale\n",
    "        return self\n",
    "\n",
    "class Circle(Shape):\n",
    "    def set_radius(self, r: float) -> 'Circle':\n",
    "        self.radius = r\n",
    "        return self\n",
    "\n",
    "class Square(Shape):\n",
    "    def set_width(self, w: float) -> 'Square':\n",
    "        self.width = w\n",
    "        return self\n",
    "\n",
    "circle: Circle = Circle().set_scale(0.5).set_radius(2.7)\n",
    "square: Square = Square().set_scale(0.5).set_width(3.2)\n",
    "\n",
    "print(circle) # <__main__.Circle object at 0x000002245A3B10D0>\n",
    "print(square) # <__main__.Square object at 0x000002245A3B10D0>\n",
    "\n",
    "print(circle.radius) # 2.7\n",
    "\n"
   ]
  }
 ],
 "metadata": {
  "kernelspec": {
   "display_name": "Python 3",
   "language": "python",
   "name": "python3"
  },
  "language_info": {
   "codemirror_mode": {
    "name": "ipython",
    "version": 3
   },
   "file_extension": ".py",
   "mimetype": "text/x-python",
   "name": "python",
   "nbconvert_exporter": "python",
   "pygments_lexer": "ipython3",
   "version": "3.12.0"
  }
 },
 "nbformat": 4,
 "nbformat_minor": 2
}
